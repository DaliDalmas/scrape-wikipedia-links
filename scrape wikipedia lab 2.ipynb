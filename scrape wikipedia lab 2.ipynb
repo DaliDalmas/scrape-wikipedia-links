{
 "cells": [
  {
   "cell_type": "code",
   "execution_count": 18,
   "id": "cf890fb2-916b-4741-bbfe-713c5c27e66a",
   "metadata": {},
   "outputs": [],
   "source": [
    "from bs4 import BeautifulSoup\n",
    "import requests\n",
    "import pandas as pd"
   ]
  },
  {
   "cell_type": "code",
   "execution_count": 19,
   "id": "82bdf15e-115e-40a0-8ccf-90e810c7bacd",
   "metadata": {},
   "outputs": [],
   "source": [
    "class wiki_scrape:\n",
    "\n",
    "    def __init__(self):\n",
    "        self.all_links = []\n",
    "\n",
    "    def scrape_wiki(self, url, degree):\n",
    "        data = requests.get(url).content\n",
    "        soup = BeautifulSoup(data, 'html.parser')\n",
    "        bodyContent = soup.find(\"div\", {\"id\": \"bodyContent\"})\n",
    "        temp_link_list = []\n",
    "        for hyperlink in bodyContent.find_all('a'):\n",
    "            link = hyperlink.get('href')\n",
    "            if isinstance(link, str) and link[:5]=='/wiki':\n",
    "                temp_link = f'https://en.wikipedia.org{link}'\n",
    "                self.all_links.append([url, temp_link])\n",
    "                temp_link_list.append(temp_link)\n",
    "        degree += 1\n",
    "        \n",
    "        if degree<15:\n",
    "            for url in temp_link_list:\n",
    "                self.scrape_wiki(url, degree)\n",
    "        "
   ]
  },
  {
   "cell_type": "code",
   "execution_count": null,
   "id": "456e9e4f-5724-47e3-9c82-9d2fc061750c",
   "metadata": {
    "tags": []
   },
   "outputs": [],
   "source": [
    "obj = wiki_scrape()\n",
    "obj.scrape_wiki('https://en.wikipedia.org/wiki/Earl_of_Dysart', 1)\n",
    "pd.DataFrame(obj.all_links)"
   ]
  },
  {
   "cell_type": "code",
   "execution_count": null,
   "id": "81de8614-6f0c-4b52-bc9e-f5d32f9d6887",
   "metadata": {},
   "outputs": [],
   "source": [
    "df = pd.DataFrame(obj.all_links)\n",
    "df.columns = ['source', 'destination']"
   ]
  },
  {
   "cell_type": "code",
   "execution_count": null,
   "id": "89c17024-ea77-4a7d-bad3-228e54362cb5",
   "metadata": {},
   "outputs": [],
   "source": [
    "df.to_csv('wiki_links.csv', index=False)"
   ]
  },
  {
   "cell_type": "code",
   "execution_count": null,
   "id": "73b6afff-0f14-4dd3-a261-29685ae918d3",
   "metadata": {},
   "outputs": [],
   "source": []
  }
 ],
 "metadata": {
  "kernelspec": {
   "display_name": "Python 3 (ipykernel)",
   "language": "python",
   "name": "python3"
  },
  "language_info": {
   "codemirror_mode": {
    "name": "ipython",
    "version": 3
   },
   "file_extension": ".py",
   "mimetype": "text/x-python",
   "name": "python",
   "nbconvert_exporter": "python",
   "pygments_lexer": "ipython3",
   "version": "3.10.0"
  }
 },
 "nbformat": 4,
 "nbformat_minor": 5
}
