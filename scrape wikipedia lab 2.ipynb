{
 "cells": [
  {
   "cell_type": "code",
   "execution_count": 1,
   "id": "cf890fb2-916b-4741-bbfe-713c5c27e66a",
   "metadata": {},
   "outputs": [],
   "source": [
    "from bs4 import BeautifulSoup\n",
    "import requests\n",
    "import pandas as pd"
   ]
  },
  {
   "cell_type": "code",
   "execution_count": 2,
   "id": "817049ed-3d41-490d-9bd0-b4e879560367",
   "metadata": {},
   "outputs": [],
   "source": [
    "url = 'https://en.wikipedia.org/wiki/Earl_of_Dysart'\n",
    "data = requests.get(url).content"
   ]
  },
  {
   "cell_type": "code",
   "execution_count": 3,
   "id": "8b33d464-3691-43d9-9c5c-00082ae41236",
   "metadata": {},
   "outputs": [],
   "source": [
    "soup = BeautifulSoup(data, 'html.parser')"
   ]
  },
  {
   "cell_type": "code",
   "execution_count": 4,
   "id": "0a1af246-81dc-4450-ba82-5e3f47385cb3",
   "metadata": {},
   "outputs": [],
   "source": [
    "bodyContent = soup.find_all(\"div\", {\"id\": \"bodyContent\"})[0]"
   ]
  },
  {
   "cell_type": "code",
   "execution_count": 5,
   "id": "5038eb24-e09b-4593-afdb-62ee2be4348e",
   "metadata": {},
   "outputs": [],
   "source": [
    "all_links = []\n",
    "for hyperlink in bodyContent.find_all('a'):\n",
    "    link = hyperlink.get('href')\n",
    "    if isinstance(link, str) and link[0]!='#' and link[:4]!='http':\n",
    "        all_links.append([url,f'https://en.wikipedia.org{link}'])"
   ]
  },
  {
   "cell_type": "code",
   "execution_count": 8,
   "id": "854c41b5-a989-4d2c-a666-0569bbb682fd",
   "metadata": {},
   "outputs": [],
   "source": [
    "df = pd.DataFrame(all_links)\n",
    "df.columns = ['source','destination']"
   ]
  },
  {
   "cell_type": "code",
   "execution_count": 9,
   "id": "a673cb8f-b3ae-4e4b-b2de-c70e7ea0dee3",
   "metadata": {},
   "outputs": [
    {
     "data": {
      "text/html": [
       "<div>\n",
       "<style scoped>\n",
       "    .dataframe tbody tr th:only-of-type {\n",
       "        vertical-align: middle;\n",
       "    }\n",
       "\n",
       "    .dataframe tbody tr th {\n",
       "        vertical-align: top;\n",
       "    }\n",
       "\n",
       "    .dataframe thead th {\n",
       "        text-align: right;\n",
       "    }\n",
       "</style>\n",
       "<table border=\"1\" class=\"dataframe\">\n",
       "  <thead>\n",
       "    <tr style=\"text-align: right;\">\n",
       "      <th></th>\n",
       "      <th>source</th>\n",
       "      <th>destination</th>\n",
       "    </tr>\n",
       "  </thead>\n",
       "  <tbody>\n",
       "    <tr>\n",
       "      <th>0</th>\n",
       "      <td>https://en.wikipedia.org/wiki/Earl_of_Dysart</td>\n",
       "      <td>https://en.wikipedia.org/wiki/Earl_of_Desart</td>\n",
       "    </tr>\n",
       "    <tr>\n",
       "      <th>1</th>\n",
       "      <td>https://en.wikipedia.org/wiki/Earl_of_Dysart</td>\n",
       "      <td>https://en.wikipedia.org/wiki/File:Earl_of_Dys...</td>\n",
       "    </tr>\n",
       "    <tr>\n",
       "      <th>2</th>\n",
       "      <td>https://en.wikipedia.org/wiki/Earl_of_Dysart</td>\n",
       "      <td>https://en.wikipedia.org/wiki/Charles_I_of_Eng...</td>\n",
       "    </tr>\n",
       "    <tr>\n",
       "      <th>3</th>\n",
       "      <td>https://en.wikipedia.org/wiki/Earl_of_Dysart</td>\n",
       "      <td>https://en.wikipedia.org/wiki/Peerage_of_Scotland</td>\n",
       "    </tr>\n",
       "    <tr>\n",
       "      <th>4</th>\n",
       "      <td>https://en.wikipedia.org/wiki/Earl_of_Dysart</td>\n",
       "      <td>https://en.wikipedia.org/wiki/William_Murray,_...</td>\n",
       "    </tr>\n",
       "    <tr>\n",
       "      <th>...</th>\n",
       "      <td>...</td>\n",
       "      <td>...</td>\n",
       "    </tr>\n",
       "    <tr>\n",
       "      <th>337</th>\n",
       "      <td>https://en.wikipedia.org/wiki/Earl_of_Dysart</td>\n",
       "      <td>https://en.wikipedia.org/wiki/Category:All_art...</td>\n",
       "    </tr>\n",
       "    <tr>\n",
       "      <th>338</th>\n",
       "      <td>https://en.wikipedia.org/wiki/Earl_of_Dysart</td>\n",
       "      <td>https://en.wikipedia.org/wiki/Category:Wikiped...</td>\n",
       "    </tr>\n",
       "    <tr>\n",
       "      <th>339</th>\n",
       "      <td>https://en.wikipedia.org/wiki/Earl_of_Dysart</td>\n",
       "      <td>https://en.wikipedia.org/wiki/Category:Article...</td>\n",
       "    </tr>\n",
       "    <tr>\n",
       "      <th>340</th>\n",
       "      <td>https://en.wikipedia.org/wiki/Earl_of_Dysart</td>\n",
       "      <td>https://en.wikipedia.org/wiki/Category:Wikiped...</td>\n",
       "    </tr>\n",
       "    <tr>\n",
       "      <th>341</th>\n",
       "      <td>https://en.wikipedia.org/wiki/Earl_of_Dysart</td>\n",
       "      <td>https://en.wikipedia.org/wiki/Category:Wikiped...</td>\n",
       "    </tr>\n",
       "  </tbody>\n",
       "</table>\n",
       "<p>342 rows × 2 columns</p>\n",
       "</div>"
      ],
      "text/plain": [
       "                                           source  \\\n",
       "0    https://en.wikipedia.org/wiki/Earl_of_Dysart   \n",
       "1    https://en.wikipedia.org/wiki/Earl_of_Dysart   \n",
       "2    https://en.wikipedia.org/wiki/Earl_of_Dysart   \n",
       "3    https://en.wikipedia.org/wiki/Earl_of_Dysart   \n",
       "4    https://en.wikipedia.org/wiki/Earl_of_Dysart   \n",
       "..                                            ...   \n",
       "337  https://en.wikipedia.org/wiki/Earl_of_Dysart   \n",
       "338  https://en.wikipedia.org/wiki/Earl_of_Dysart   \n",
       "339  https://en.wikipedia.org/wiki/Earl_of_Dysart   \n",
       "340  https://en.wikipedia.org/wiki/Earl_of_Dysart   \n",
       "341  https://en.wikipedia.org/wiki/Earl_of_Dysart   \n",
       "\n",
       "                                           destination  \n",
       "0         https://en.wikipedia.org/wiki/Earl_of_Desart  \n",
       "1    https://en.wikipedia.org/wiki/File:Earl_of_Dys...  \n",
       "2    https://en.wikipedia.org/wiki/Charles_I_of_Eng...  \n",
       "3    https://en.wikipedia.org/wiki/Peerage_of_Scotland  \n",
       "4    https://en.wikipedia.org/wiki/William_Murray,_...  \n",
       "..                                                 ...  \n",
       "337  https://en.wikipedia.org/wiki/Category:All_art...  \n",
       "338  https://en.wikipedia.org/wiki/Category:Wikiped...  \n",
       "339  https://en.wikipedia.org/wiki/Category:Article...  \n",
       "340  https://en.wikipedia.org/wiki/Category:Wikiped...  \n",
       "341  https://en.wikipedia.org/wiki/Category:Wikiped...  \n",
       "\n",
       "[342 rows x 2 columns]"
      ]
     },
     "execution_count": 9,
     "metadata": {},
     "output_type": "execute_result"
    }
   ],
   "source": [
    "df"
   ]
  },
  {
   "cell_type": "code",
   "execution_count": null,
   "id": "01cce1ef-4fbc-4771-9087-15cce1aa7f83",
   "metadata": {},
   "outputs": [],
   "source": []
  }
 ],
 "metadata": {
  "kernelspec": {
   "display_name": "Python 3 (ipykernel)",
   "language": "python",
   "name": "python3"
  },
  "language_info": {
   "codemirror_mode": {
    "name": "ipython",
    "version": 3
   },
   "file_extension": ".py",
   "mimetype": "text/x-python",
   "name": "python",
   "nbconvert_exporter": "python",
   "pygments_lexer": "ipython3",
   "version": "3.10.0"
  }
 },
 "nbformat": 4,
 "nbformat_minor": 5
}
