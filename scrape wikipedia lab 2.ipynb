{
 "cells": [
  {
   "cell_type": "code",
   "execution_count": null,
   "id": "cf890fb2-916b-4741-bbfe-713c5c27e66a",
   "metadata": {},
   "outputs": [],
   "source": [
    "from bs4 import BeautifulSoup\n",
    "import requests\n",
    "import pandas as pd\n",
    "import numpy as np\n",
    "import time"
   ]
  },
  {
   "cell_type": "code",
   "execution_count": null,
   "id": "82bdf15e-115e-40a0-8ccf-90e810c7bacd",
   "metadata": {},
   "outputs": [],
   "source": [
    "class wiki_scrape:\n",
    "\n",
    "    def __init__(self):\n",
    "        self.all_links = []\n",
    "\n",
    "    def scrape_wiki(self, url, steps):\n",
    "        if len(self.all_links)>10000:\n",
    "            return None\n",
    "        elif steps>8:\n",
    "            return None\n",
    "        data = requests.get(url).content\n",
    "        soup = BeautifulSoup(data, 'html.parser')\n",
    "        bodyContent = soup.find(\"div\", {\"id\": \"bodyContent\"})\n",
    "        temp_link_list = []\n",
    "        for hyperlink in bodyContent.find_all('a'):\n",
    "            link = hyperlink.get('href')\n",
    "            if isinstance(link, str) and link[:5]=='/wiki'\\\n",
    "                and (link.split('.')[-1] not in ['svg', 'jpg', 'jpeg', 'png'])\\\n",
    "                and (link.split(':')[-1] not in ['Shortcut']) :\n",
    "                temp_link = f'https://en.wikipedia.org{link}'\n",
    "                self.all_links.append([url, temp_link])\n",
    "                temp_link_list.append(temp_link)\n",
    "                if temp_link not in [i[0] for i in self.all_links]:\n",
    "                    temp_link_list.append(temp_link)\n",
    "        steps += 1\n",
    "        for url in temp_link_list:\n",
    "            self.scrape_wiki(url, steps)"
   ]
  },
  {
   "cell_type": "code",
   "execution_count": null,
   "id": "456e9e4f-5724-47e3-9c82-9d2fc061750c",
   "metadata": {
    "tags": []
   },
   "outputs": [],
   "source": [
    "obj = wiki_scrape()\n",
    "obj.scrape_wiki('https://en.wikipedia.org/wiki/Earl_of_Dysart', 1)\n",
    "df = pd.DataFrame(obj.all_links)\n",
    "df.columns = ['source', 'destination']\n",
    "df = df.drop_duplicates()\n",
    "df.to_csv('wiki_links.csv', index=False)"
   ]
  },
  {
   "cell_type": "code",
   "execution_count": null,
   "id": "8aa09002-028a-42fc-ad4a-42d8b9209cd0",
   "metadata": {},
   "outputs": [],
   "source": [
    "for i in range(10000):\n",
    "    checkpoint_df = pd.read_csv('wiki_links.csv')\n",
    "    url = checkpoint_df.tail(np.random.randint(1,50))['destination'].values[0]\n",
    "    obj = wiki_scrape()\n",
    "    obj.scrape_wiki(url, 1)\n",
    "    df = pd.DataFrame(obj.all_links)\n",
    "    df.columns = ['source', 'destination']\n",
    "    df = pd.concat([checkpoint_df, df], sort=False)\n",
    "    df = df.drop_duplicates()\n",
    "    df.to_csv('wiki_links.csv', index=False)\n",
    "    print(f'checkpoint {i} shape {df.shape}')\n",
    "    if len(checkpoint_df)==len(df):\n",
    "        checkpoint_df = pd.read_csv('wiki_links.csv')\n",
    "        url = checkpoint_df.tail(np.random.randint(10,1000)).head(1)['destination'].values[0]\n",
    "        obj = wiki_scrape()\n",
    "        obj.scrape_wiki(url, 1)\n",
    "        df = pd.DataFrame(obj.all_links)\n",
    "        df.columns = ['source', 'destination']\n",
    "        df = pd.concat([checkpoint_df, df], sort=False)\n",
    "        df = df.drop_duplicates()\n",
    "        df.to_csv('wiki_links.csv', index=False)\n",
    "        print(f'checkpoint {i} shape {df.shape}')\n",
    "        time.sleep(60)"
   ]
  },
  {
   "cell_type": "code",
   "execution_count": null,
   "id": "b9f1021e-d12c-469e-8780-2ceaa193e7f5",
   "metadata": {},
   "outputs": [],
   "source": []
  }
 ],
 "metadata": {
  "kernelspec": {
   "display_name": "Python 3 (ipykernel)",
   "language": "python",
   "name": "python3"
  },
  "language_info": {
   "codemirror_mode": {
    "name": "ipython",
    "version": 3
   },
   "file_extension": ".py",
   "mimetype": "text/x-python",
   "name": "python",
   "nbconvert_exporter": "python",
   "pygments_lexer": "ipython3",
   "version": "3.10.0"
  }
 },
 "nbformat": 4,
 "nbformat_minor": 5
}
