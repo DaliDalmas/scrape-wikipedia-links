{
 "cells": [
  {
   "cell_type": "code",
   "execution_count": 33,
   "id": "cf890fb2-916b-4741-bbfe-713c5c27e66a",
   "metadata": {},
   "outputs": [],
   "source": [
    "from bs4 import BeautifulSoup\n",
    "import requests\n",
    "import pandas as pd"
   ]
  },
  {
   "cell_type": "code",
   "execution_count": 88,
   "id": "82bdf15e-115e-40a0-8ccf-90e810c7bacd",
   "metadata": {},
   "outputs": [],
   "source": [
    "class wiki_scrape:\n",
    "\n",
    "    def __init__(self):\n",
    "        self.all_links = []\n",
    "\n",
    "    def scrape_wiki(self, url, steps):\n",
    "        if len(self.all_links)>10000:\n",
    "            return None\n",
    "        elif steps>8:\n",
    "            return None\n",
    "        data = requests.get(url).content\n",
    "        soup = BeautifulSoup(data, 'html.parser')\n",
    "        bodyContent = soup.find(\"div\", {\"id\": \"bodyContent\"})\n",
    "        temp_link_list = []\n",
    "        for hyperlink in bodyContent.find_all('a'):\n",
    "            link = hyperlink.get('href')\n",
    "            if isinstance(link, str) and link[:5]=='/wiki':\n",
    "                temp_link = f'https://en.wikipedia.org{link}'\n",
    "                self.all_links.append([url, temp_link])\n",
    "                temp_link_list.append(temp_link)\n",
    "                if temp_link not in [i[0] for i in self.all_links]:\n",
    "                    temp_link_list.append(temp_link)\n",
    "        steps += 1\n",
    "        for url in temp_link_list:\n",
    "            self.scrape_wiki(url, steps)"
   ]
  },
  {
   "cell_type": "code",
   "execution_count": 85,
   "id": "456e9e4f-5724-47e3-9c82-9d2fc061750c",
   "metadata": {
    "tags": []
   },
   "outputs": [],
   "source": [
    "obj = wiki_scrape()\n",
    "obj.scrape_wiki('https://en.wikipedia.org/wiki/Earl_of_Dysart', 1)\n",
    "df = pd.DataFrame(obj.all_links)\n",
    "df.columns = ['source', 'destination']\n",
    "df = df.drop_duplicates()\n",
    "df.to_csv('wiki_links.csv', index=False)"
   ]
  },
  {
   "cell_type": "code",
   "execution_count": null,
   "id": "8aa09002-028a-42fc-ad4a-42d8b9209cd0",
   "metadata": {},
   "outputs": [
    {
     "name": "stdout",
     "output_type": "stream",
     "text": [
      "checkpoint 0 shape (58481, 2)\n",
      "checkpoint 1 shape (62473, 2)\n",
      "checkpoint 2 shape (64818, 2)\n",
      "checkpoint 3 shape (68564, 2)\n",
      "checkpoint 4 shape (68601, 2)\n",
      "checkpoint 5 shape (68601, 2)\n",
      "checkpoint 5 shape (70396, 2)\n",
      "checkpoint 6 shape (72956, 2)\n",
      "checkpoint 7 shape (73008, 2)\n",
      "checkpoint 8 shape (73008, 2)\n",
      "checkpoint 8 shape (73224, 2)\n",
      "checkpoint 9 shape (73224, 2)\n",
      "checkpoint 9 shape (73296, 2)\n",
      "checkpoint 10 shape (73296, 2)\n",
      "checkpoint 10 shape (73729, 2)\n",
      "checkpoint 11 shape (73729, 2)\n",
      "checkpoint 11 shape (73796, 2)\n",
      "checkpoint 12 shape (73796, 2)\n",
      "checkpoint 12 shape (74008, 2)\n",
      "checkpoint 13 shape (74008, 2)\n",
      "checkpoint 13 shape (74026, 2)\n"
     ]
    }
   ],
   "source": [
    "for i in range(10000):\n",
    "    checkpoint_df = pd.read_csv('wiki_links.csv')\n",
    "    url = checkpoint_df.tail(1)['source'].values[0]\n",
    "    obj = wiki_scrape()\n",
    "    obj.scrape_wiki(url, 1)\n",
    "    df = pd.DataFrame(obj.all_links)\n",
    "    df.columns = ['source', 'destination']\n",
    "    df = pd.concat([checkpoint_df, df], sort=False)\n",
    "    df = df.drop_duplicates()\n",
    "    df.to_csv('wiki_links.csv', index=False)\n",
    "    print(f'checkpoint {i} shape {df.shape}')\n",
    "    if len(checkpoint_df)==len(df):\n",
    "        checkpoint_df = pd.read_csv('wiki_links.csv')\n",
    "        url = checkpoint_df.tail(1)['destination'].values[0]\n",
    "        obj = wiki_scrape()\n",
    "        obj.scrape_wiki(url, 1)\n",
    "        df = pd.DataFrame(obj.all_links)\n",
    "        df.columns = ['source', 'destination']\n",
    "        df = pd.concat([checkpoint_df, df], sort=False)\n",
    "        df = df.drop_duplicates()\n",
    "        df.to_csv('wiki_links.csv', index=False)\n",
    "        print(f'checkpoint {i} shape {df.shape}')\n",
    "        if len(checkpoint_df)==len(df):\n",
    "            break;"
   ]
  },
  {
   "cell_type": "code",
   "execution_count": null,
   "id": "81de8614-6f0c-4b52-bc9e-f5d32f9d6887",
   "metadata": {},
   "outputs": [],
   "source": []
  },
  {
   "cell_type": "code",
   "execution_count": 74,
   "id": "525da66e-33c2-4577-a0be-0cd09f26d449",
   "metadata": {},
   "outputs": [],
   "source": []
  },
  {
   "cell_type": "code",
   "execution_count": 75,
   "id": "89c17024-ea77-4a7d-bad3-228e54362cb5",
   "metadata": {},
   "outputs": [],
   "source": []
  },
  {
   "cell_type": "code",
   "execution_count": null,
   "id": "ed7b7fed-4bf9-42f8-8b26-c64ad09aea83",
   "metadata": {},
   "outputs": [],
   "source": []
  }
 ],
 "metadata": {
  "kernelspec": {
   "display_name": "Python 3 (ipykernel)",
   "language": "python",
   "name": "python3"
  },
  "language_info": {
   "codemirror_mode": {
    "name": "ipython",
    "version": 3
   },
   "file_extension": ".py",
   "mimetype": "text/x-python",
   "name": "python",
   "nbconvert_exporter": "python",
   "pygments_lexer": "ipython3",
   "version": "3.10.0"
  }
 },
 "nbformat": 4,
 "nbformat_minor": 5
}
